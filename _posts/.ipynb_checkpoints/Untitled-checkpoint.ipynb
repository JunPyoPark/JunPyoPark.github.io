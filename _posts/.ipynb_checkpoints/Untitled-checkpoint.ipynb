{
 "cells": [
  {
   "cell_type": "markdown",
   "metadata": {},
   "source": [
    "# DB GAPS 투자계획서 (2019 version)"
   ]
  },
  {
   "cell_type": "markdown",
   "metadata": {},
   "source": [
    "by JunPyo Park"
   ]
  },
  {
   "cell_type": "markdown",
   "metadata": {},
   "source": [
    "---"
   ]
  },
  {
   "cell_type": "markdown",
   "metadata": {},
   "source": [
    "## 주말에도 월말 리밸런싱 되는줄 알고 안하다가 아쉽게 떨어진 그 대회... 다음엔 홍콩 가즈아"
   ]
  },
  {
   "cell_type": "markdown",
   "metadata": {},
   "source": [
    "---"
   ]
  },
  {
   "cell_type": "markdown",
   "metadata": {},
   "source": [
    "![](https://trello-attachments.s3.amazonaws.com/5b29ec749cfb0d90ada47d03/601f07086d1bba2236bdcaaf/585a038da5a1cd36c40f5aedf79f92f8/ALPHAPRIME_%ED%88%AC%EC%9E%90%EA%B3%84%ED%9A%8D%EC%84%9C_2019-01.jpg)"
   ]
  },
  {
   "cell_type": "markdown",
   "metadata": {},
   "source": [
    "---"
   ]
  },
  {
   "cell_type": "markdown",
   "metadata": {},
   "source": [
    "![](https://trello-attachments.s3.amazonaws.com/5b29ec749cfb0d90ada47d03/601f07086d1bba2236bdcaaf/97c7c0b28a249c448c346b83228c32f9/ALPHAPRIME_%ED%88%AC%EC%9E%90%EA%B3%84%ED%9A%8D%EC%84%9C_2019-02.jpg)"
   ]
  },
  {
   "cell_type": "markdown",
   "metadata": {},
   "source": [
    "---"
   ]
  },
  {
   "cell_type": "markdown",
   "metadata": {},
   "source": [
    "![](https://trello-attachments.s3.amazonaws.com/5b29ec749cfb0d90ada47d03/601f07086d1bba2236bdcaaf/442c4af3827004572bafec54c9330f03/ALPHAPRIME_%ED%88%AC%EC%9E%90%EA%B3%84%ED%9A%8D%EC%84%9C_2019-03.jpg)"
   ]
  },
  {
   "cell_type": "markdown",
   "metadata": {},
   "source": [
    "---"
   ]
  },
  {
   "cell_type": "markdown",
   "metadata": {},
   "source": [
    "![](https://trello-attachments.s3.amazonaws.com/5b29ec749cfb0d90ada47d03/601f07086d1bba2236bdcaaf/9e19485bedaf85e3884d2a6ec86ba163/ALPHAPRIME_%ED%88%AC%EC%9E%90%EA%B3%84%ED%9A%8D%EC%84%9C_2019-04.jpg)"
   ]
  },
  {
   "cell_type": "markdown",
   "metadata": {},
   "source": [
    "---"
   ]
  },
  {
   "cell_type": "markdown",
   "metadata": {},
   "source": [
    "![](https://trello-attachments.s3.amazonaws.com/5b29ec749cfb0d90ada47d03/601f07086d1bba2236bdcaaf/d2182dbc0687340bd3b17560e6cb8a5e/ALPHAPRIME_%ED%88%AC%EC%9E%90%EA%B3%84%ED%9A%8D%EC%84%9C_2019-05.jpg)"
   ]
  },
  {
   "cell_type": "markdown",
   "metadata": {},
   "source": [
    "---"
   ]
  },
  {
   "cell_type": "markdown",
   "metadata": {},
   "source": [
    "![](https://trello-attachments.s3.amazonaws.com/5b29ec749cfb0d90ada47d03/601f07086d1bba2236bdcaaf/1a15f14531ba78f76372d611320ca74f/ALPHAPRIME_%ED%88%AC%EC%9E%90%EA%B3%84%ED%9A%8D%EC%84%9C_2019-06.jpg)"
   ]
  },
  {
   "cell_type": "markdown",
   "metadata": {},
   "source": [
    "---"
   ]
  },
  {
   "cell_type": "markdown",
   "metadata": {},
   "source": [
    "![](https://trello-attachments.s3.amazonaws.com/5b29ec749cfb0d90ada47d03/601f07086d1bba2236bdcaaf/3fadcf9eb66356d3605c0c17101bb8df/ALPHAPRIME_%ED%88%AC%EC%9E%90%EA%B3%84%ED%9A%8D%EC%84%9C_2019-07.jpg)"
   ]
  },
  {
   "cell_type": "markdown",
   "metadata": {},
   "source": [
    "---"
   ]
  },
  {
   "cell_type": "markdown",
   "metadata": {},
   "source": [
    "![](https://trello-attachments.s3.amazonaws.com/5b29ec749cfb0d90ada47d03/601f07086d1bba2236bdcaaf/0ba0da2e5601d29ca27b20af7efac8c6/ALPHAPRIME_%ED%88%AC%EC%9E%90%EA%B3%84%ED%9A%8D%EC%84%9C_2019-08.jpg)"
   ]
  },
  {
   "cell_type": "markdown",
   "metadata": {},
   "source": [
    "---"
   ]
  },
  {
   "cell_type": "markdown",
   "metadata": {},
   "source": [
    "![](https://trello-attachments.s3.amazonaws.com/5b29ec749cfb0d90ada47d03/601f07086d1bba2236bdcaaf/09eb5985b1a62a9ccab21574e84416aa/ALPHAPRIME_%ED%88%AC%EC%9E%90%EA%B3%84%ED%9A%8D%EC%84%9C_2019-09.jpg)"
   ]
  },
  {
   "cell_type": "markdown",
   "metadata": {},
   "source": [
    "---"
   ]
  },
  {
   "cell_type": "markdown",
   "metadata": {},
   "source": [
    "![](https://trello-attachments.s3.amazonaws.com/5b29ec749cfb0d90ada47d03/601f07086d1bba2236bdcaaf/673ecfb0aae6eb4808eaf6224d5a5259/ALPHAPRIME_%ED%88%AC%EC%9E%90%EA%B3%84%ED%9A%8D%EC%84%9C_2019-10.jpg)"
   ]
  },
  {
   "cell_type": "markdown",
   "metadata": {},
   "source": [
    "---"
   ]
  },
  {
   "cell_type": "markdown",
   "metadata": {},
   "source": [
    "![](https://trello-attachments.s3.amazonaws.com/5b29ec749cfb0d90ada47d03/601f07086d1bba2236bdcaaf/e77f824a95ebd2a5533de352d479da5b/ALPHAPRIME_%ED%88%AC%EC%9E%90%EA%B3%84%ED%9A%8D%EC%84%9C_2019-11.jpg)"
   ]
  },
  {
   "cell_type": "markdown",
   "metadata": {},
   "source": [
    "---"
   ]
  }
 ],
 "metadata": {
  "kernelspec": {
   "display_name": "Python 3",
   "language": "python",
   "name": "python3"
  },
  "language_info": {
   "codemirror_mode": {
    "name": "ipython",
    "version": 3
   },
   "file_extension": ".py",
   "mimetype": "text/x-python",
   "name": "python",
   "nbconvert_exporter": "python",
   "pygments_lexer": "ipython3",
   "version": "3.8.3"
  },
  "toc": {
   "base_numbering": 1,
   "nav_menu": {},
   "number_sections": true,
   "sideBar": true,
   "skip_h1_title": false,
   "title_cell": "Table of Contents",
   "title_sidebar": "Contents",
   "toc_cell": false,
   "toc_position": {},
   "toc_section_display": true,
   "toc_window_display": false
  }
 },
 "nbformat": 4,
 "nbformat_minor": 4
}
